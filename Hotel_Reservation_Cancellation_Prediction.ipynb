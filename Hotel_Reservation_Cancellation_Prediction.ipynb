{
  "nbformat": 4,
  "nbformat_minor": 0,
  "metadata": {
    "kernelspec": {
      "name": "python3",
      "display_name": "Python 3",
      "language": "python"
    },
    "language_info": {
      "name": "python",
      "version": "3.7.6",
      "mimetype": "text/x-python",
      "codemirror_mode": {
        "name": "ipython",
        "version": 3
      },
      "pygments_lexer": "ipython3",
      "nbconvert_exporter": "python",
      "file_extension": ".py"
    },
    "colab": {
      "name": "Hotel-Reservation-Cancellation-Prediction.ipynb",
      "provenance": [],
      "collapsed_sections": []
    },
    "accelerator": "GPU"
  },
  "cells": [
    {
      "cell_type": "markdown",
      "metadata": {
        "id": "9R6ar-CSckvP"
      },
      "source": [
        "# Introduction #\n",
        "\n",
        "Build a model to predict hotel cancellations with a binary classifier.\n",
        "\n",
        "Data link: https://www.kaggle.com/jessemostipak/hotel-booking-demand"
      ]
    },
    {
      "cell_type": "markdown",
      "metadata": {
        "id": "cJSZ5OJxukR-"
      },
      "source": [
        "## Necessary Imports"
      ]
    },
    {
      "cell_type": "code",
      "metadata": {
        "id": "RC-z4QG8umrf"
      },
      "source": [
        "import pandas as pd\n",
        "import matplotlib.pyplot as plt\n",
        "from sklearn.model_selection import train_test_split\n",
        "from sklearn.preprocessing import StandardScaler, OneHotEncoder\n",
        "from sklearn.impute import SimpleImputer\n",
        "from sklearn.pipeline import make_pipeline\n",
        "from sklearn.compose import make_column_transformer"
      ],
      "execution_count": 1,
      "outputs": []
    },
    {
      "cell_type": "code",
      "metadata": {
        "colab": {
          "base_uri": "https://localhost:8080/"
        },
        "id": "rJybJEuuh-Eq",
        "outputId": "da23eb07-29c6-4b9c-9efd-084999e328de"
      },
      "source": [
        "from google.colab import drive\n",
        "drive.mount('/content/gdrive')"
      ],
      "execution_count": 2,
      "outputs": [
        {
          "output_type": "stream",
          "text": [
            "Mounted at /content/gdrive\n"
          ],
          "name": "stdout"
        }
      ]
    },
    {
      "cell_type": "markdown",
      "metadata": {
        "id": "8VKGg61hckvQ"
      },
      "source": [
        "# Load the *Hotel Cancellations* dataset."
      ]
    },
    {
      "cell_type": "code",
      "metadata": {
        "colab": {
          "base_uri": "https://localhost:8080/",
          "height": 309
        },
        "id": "XHp7EVztubkq",
        "outputId": "abc9a3b7-b394-4fe2-f9b9-49b21bd285cc"
      },
      "source": [
        "hotel = pd.read_csv('/content/gdrive/My Drive/My_Learning_Folder/Dataset/Hotel Cancellation Prediction Dataset/hotel.csv')\n",
        "hotel.head()"
      ],
      "execution_count": 3,
      "outputs": [
        {
          "output_type": "execute_result",
          "data": {
            "text/html": [
              "<div>\n",
              "<style scoped>\n",
              "    .dataframe tbody tr th:only-of-type {\n",
              "        vertical-align: middle;\n",
              "    }\n",
              "\n",
              "    .dataframe tbody tr th {\n",
              "        vertical-align: top;\n",
              "    }\n",
              "\n",
              "    .dataframe thead th {\n",
              "        text-align: right;\n",
              "    }\n",
              "</style>\n",
              "<table border=\"1\" class=\"dataframe\">\n",
              "  <thead>\n",
              "    <tr style=\"text-align: right;\">\n",
              "      <th></th>\n",
              "      <th>hotel</th>\n",
              "      <th>is_canceled</th>\n",
              "      <th>lead_time</th>\n",
              "      <th>arrival_date_year</th>\n",
              "      <th>arrival_date_month</th>\n",
              "      <th>arrival_date_week_number</th>\n",
              "      <th>arrival_date_day_of_month</th>\n",
              "      <th>stays_in_weekend_nights</th>\n",
              "      <th>stays_in_week_nights</th>\n",
              "      <th>adults</th>\n",
              "      <th>children</th>\n",
              "      <th>babies</th>\n",
              "      <th>meal</th>\n",
              "      <th>country</th>\n",
              "      <th>market_segment</th>\n",
              "      <th>distribution_channel</th>\n",
              "      <th>is_repeated_guest</th>\n",
              "      <th>previous_cancellations</th>\n",
              "      <th>previous_bookings_not_canceled</th>\n",
              "      <th>reserved_room_type</th>\n",
              "      <th>assigned_room_type</th>\n",
              "      <th>booking_changes</th>\n",
              "      <th>deposit_type</th>\n",
              "      <th>agent</th>\n",
              "      <th>company</th>\n",
              "      <th>days_in_waiting_list</th>\n",
              "      <th>customer_type</th>\n",
              "      <th>adr</th>\n",
              "      <th>required_car_parking_spaces</th>\n",
              "      <th>total_of_special_requests</th>\n",
              "      <th>reservation_status</th>\n",
              "      <th>reservation_status_date</th>\n",
              "    </tr>\n",
              "  </thead>\n",
              "  <tbody>\n",
              "    <tr>\n",
              "      <th>0</th>\n",
              "      <td>Resort Hotel</td>\n",
              "      <td>0</td>\n",
              "      <td>342</td>\n",
              "      <td>2015</td>\n",
              "      <td>July</td>\n",
              "      <td>27</td>\n",
              "      <td>1</td>\n",
              "      <td>0</td>\n",
              "      <td>0</td>\n",
              "      <td>2</td>\n",
              "      <td>0.0</td>\n",
              "      <td>0</td>\n",
              "      <td>BB</td>\n",
              "      <td>PRT</td>\n",
              "      <td>Direct</td>\n",
              "      <td>Direct</td>\n",
              "      <td>0</td>\n",
              "      <td>0</td>\n",
              "      <td>0</td>\n",
              "      <td>C</td>\n",
              "      <td>C</td>\n",
              "      <td>3</td>\n",
              "      <td>No Deposit</td>\n",
              "      <td>NaN</td>\n",
              "      <td>NaN</td>\n",
              "      <td>0</td>\n",
              "      <td>Transient</td>\n",
              "      <td>0.0</td>\n",
              "      <td>0</td>\n",
              "      <td>0</td>\n",
              "      <td>Check-Out</td>\n",
              "      <td>2015-07-01</td>\n",
              "    </tr>\n",
              "    <tr>\n",
              "      <th>1</th>\n",
              "      <td>Resort Hotel</td>\n",
              "      <td>0</td>\n",
              "      <td>737</td>\n",
              "      <td>2015</td>\n",
              "      <td>July</td>\n",
              "      <td>27</td>\n",
              "      <td>1</td>\n",
              "      <td>0</td>\n",
              "      <td>0</td>\n",
              "      <td>2</td>\n",
              "      <td>0.0</td>\n",
              "      <td>0</td>\n",
              "      <td>BB</td>\n",
              "      <td>PRT</td>\n",
              "      <td>Direct</td>\n",
              "      <td>Direct</td>\n",
              "      <td>0</td>\n",
              "      <td>0</td>\n",
              "      <td>0</td>\n",
              "      <td>C</td>\n",
              "      <td>C</td>\n",
              "      <td>4</td>\n",
              "      <td>No Deposit</td>\n",
              "      <td>NaN</td>\n",
              "      <td>NaN</td>\n",
              "      <td>0</td>\n",
              "      <td>Transient</td>\n",
              "      <td>0.0</td>\n",
              "      <td>0</td>\n",
              "      <td>0</td>\n",
              "      <td>Check-Out</td>\n",
              "      <td>2015-07-01</td>\n",
              "    </tr>\n",
              "    <tr>\n",
              "      <th>2</th>\n",
              "      <td>Resort Hotel</td>\n",
              "      <td>0</td>\n",
              "      <td>7</td>\n",
              "      <td>2015</td>\n",
              "      <td>July</td>\n",
              "      <td>27</td>\n",
              "      <td>1</td>\n",
              "      <td>0</td>\n",
              "      <td>1</td>\n",
              "      <td>1</td>\n",
              "      <td>0.0</td>\n",
              "      <td>0</td>\n",
              "      <td>BB</td>\n",
              "      <td>GBR</td>\n",
              "      <td>Direct</td>\n",
              "      <td>Direct</td>\n",
              "      <td>0</td>\n",
              "      <td>0</td>\n",
              "      <td>0</td>\n",
              "      <td>A</td>\n",
              "      <td>C</td>\n",
              "      <td>0</td>\n",
              "      <td>No Deposit</td>\n",
              "      <td>NaN</td>\n",
              "      <td>NaN</td>\n",
              "      <td>0</td>\n",
              "      <td>Transient</td>\n",
              "      <td>75.0</td>\n",
              "      <td>0</td>\n",
              "      <td>0</td>\n",
              "      <td>Check-Out</td>\n",
              "      <td>2015-07-02</td>\n",
              "    </tr>\n",
              "    <tr>\n",
              "      <th>3</th>\n",
              "      <td>Resort Hotel</td>\n",
              "      <td>0</td>\n",
              "      <td>13</td>\n",
              "      <td>2015</td>\n",
              "      <td>July</td>\n",
              "      <td>27</td>\n",
              "      <td>1</td>\n",
              "      <td>0</td>\n",
              "      <td>1</td>\n",
              "      <td>1</td>\n",
              "      <td>0.0</td>\n",
              "      <td>0</td>\n",
              "      <td>BB</td>\n",
              "      <td>GBR</td>\n",
              "      <td>Corporate</td>\n",
              "      <td>Corporate</td>\n",
              "      <td>0</td>\n",
              "      <td>0</td>\n",
              "      <td>0</td>\n",
              "      <td>A</td>\n",
              "      <td>A</td>\n",
              "      <td>0</td>\n",
              "      <td>No Deposit</td>\n",
              "      <td>304.0</td>\n",
              "      <td>NaN</td>\n",
              "      <td>0</td>\n",
              "      <td>Transient</td>\n",
              "      <td>75.0</td>\n",
              "      <td>0</td>\n",
              "      <td>0</td>\n",
              "      <td>Check-Out</td>\n",
              "      <td>2015-07-02</td>\n",
              "    </tr>\n",
              "    <tr>\n",
              "      <th>4</th>\n",
              "      <td>Resort Hotel</td>\n",
              "      <td>0</td>\n",
              "      <td>14</td>\n",
              "      <td>2015</td>\n",
              "      <td>July</td>\n",
              "      <td>27</td>\n",
              "      <td>1</td>\n",
              "      <td>0</td>\n",
              "      <td>2</td>\n",
              "      <td>2</td>\n",
              "      <td>0.0</td>\n",
              "      <td>0</td>\n",
              "      <td>BB</td>\n",
              "      <td>GBR</td>\n",
              "      <td>Online TA</td>\n",
              "      <td>TA/TO</td>\n",
              "      <td>0</td>\n",
              "      <td>0</td>\n",
              "      <td>0</td>\n",
              "      <td>A</td>\n",
              "      <td>A</td>\n",
              "      <td>0</td>\n",
              "      <td>No Deposit</td>\n",
              "      <td>240.0</td>\n",
              "      <td>NaN</td>\n",
              "      <td>0</td>\n",
              "      <td>Transient</td>\n",
              "      <td>98.0</td>\n",
              "      <td>0</td>\n",
              "      <td>1</td>\n",
              "      <td>Check-Out</td>\n",
              "      <td>2015-07-03</td>\n",
              "    </tr>\n",
              "  </tbody>\n",
              "</table>\n",
              "</div>"
            ],
            "text/plain": [
              "          hotel  is_canceled  ...  reservation_status  reservation_status_date\n",
              "0  Resort Hotel            0  ...           Check-Out               2015-07-01\n",
              "1  Resort Hotel            0  ...           Check-Out               2015-07-01\n",
              "2  Resort Hotel            0  ...           Check-Out               2015-07-02\n",
              "3  Resort Hotel            0  ...           Check-Out               2015-07-02\n",
              "4  Resort Hotel            0  ...           Check-Out               2015-07-03\n",
              "\n",
              "[5 rows x 32 columns]"
            ]
          },
          "metadata": {
            "tags": []
          },
          "execution_count": 3
        }
      ]
    },
    {
      "cell_type": "code",
      "metadata": {
        "colab": {
          "base_uri": "https://localhost:8080/"
        },
        "id": "tYZgH6v_y0qq",
        "outputId": "1872462d-f614-4f07-8276-a72a430a2397"
      },
      "source": [
        "#Checking Missing Values\n",
        "print('====================If any missing values==========================')\n",
        "print(hotel.isnull().values.any())\n",
        "print('====================How many missing values========================')\n",
        "print(hotel.isnull().sum().sum())\n",
        "print('====================Missing values in Various Columns==============')\n",
        "print(hotel.isnull().sum())"
      ],
      "execution_count": 4,
      "outputs": [
        {
          "output_type": "stream",
          "text": [
            "====================If any missing values==========================\n",
            "True\n",
            "====================How many missing values========================\n",
            "129425\n",
            "====================Missing values in Various Columns==============\n",
            "hotel                                  0\n",
            "is_canceled                            0\n",
            "lead_time                              0\n",
            "arrival_date_year                      0\n",
            "arrival_date_month                     0\n",
            "arrival_date_week_number               0\n",
            "arrival_date_day_of_month              0\n",
            "stays_in_weekend_nights                0\n",
            "stays_in_week_nights                   0\n",
            "adults                                 0\n",
            "children                               4\n",
            "babies                                 0\n",
            "meal                                   0\n",
            "country                              488\n",
            "market_segment                         0\n",
            "distribution_channel                   0\n",
            "is_repeated_guest                      0\n",
            "previous_cancellations                 0\n",
            "previous_bookings_not_canceled         0\n",
            "reserved_room_type                     0\n",
            "assigned_room_type                     0\n",
            "booking_changes                        0\n",
            "deposit_type                           0\n",
            "agent                              16340\n",
            "company                           112593\n",
            "days_in_waiting_list                   0\n",
            "customer_type                          0\n",
            "adr                                    0\n",
            "required_car_parking_spaces            0\n",
            "total_of_special_requests              0\n",
            "reservation_status                     0\n",
            "reservation_status_date                0\n",
            "dtype: int64\n"
          ],
          "name": "stdout"
        }
      ]
    },
    {
      "cell_type": "markdown",
      "metadata": {
        "id": "C8P6S6EpxD22"
      },
      "source": [
        "## Features and Labels"
      ]
    },
    {
      "cell_type": "code",
      "metadata": {
        "id": "zrEf1LVfxCp4"
      },
      "source": [
        "X = hotel.copy()\n",
        "y = X.pop('is_canceled')"
      ],
      "execution_count": 5,
      "outputs": []
    },
    {
      "cell_type": "markdown",
      "metadata": {
        "id": "mrGndjvu1wuP"
      },
      "source": [
        "# Data Preprocessing"
      ]
    },
    {
      "cell_type": "code",
      "metadata": {
        "lines_to_next_cell": 2,
        "trusted": true,
        "id": "ORtr96TBckvQ"
      },
      "source": [
        "#Convert Categorical Months into Numbers\n",
        "X['arrival_date_month'] = \\\n",
        "    X['arrival_date_month'].map(\n",
        "        {'January':1, 'February': 2, 'March':3,\n",
        "         'April':4, 'May':5, 'June':6, 'July':7,\n",
        "         'August':8, 'September':9, 'October':10,\n",
        "         'November':11, 'December':12}\n",
        "    )\n",
        "\n",
        "features_num = [\n",
        "    \"lead_time\", \"arrival_date_week_number\",\n",
        "    \"arrival_date_day_of_month\", \"stays_in_weekend_nights\",\n",
        "    \"stays_in_week_nights\", \"adults\", \"children\", \"babies\",\n",
        "    \"is_repeated_guest\", \"previous_cancellations\",\n",
        "    \"previous_bookings_not_canceled\", \"required_car_parking_spaces\",\n",
        "    \"total_of_special_requests\", \"adr\",\n",
        "]\n",
        "features_cat = [\n",
        "    \"hotel\", \"arrival_date_month\", \"meal\",\n",
        "    \"market_segment\", \"distribution_channel\",\n",
        "    \"reserved_room_type\", \"deposit_type\", \"customer_type\",\n",
        "]\n",
        "\n",
        "transformer_num = make_pipeline(\n",
        "    SimpleImputer(strategy=\"constant\"), # there are a few missing values\n",
        "    StandardScaler(),\n",
        ")\n",
        "transformer_cat = make_pipeline(\n",
        "    SimpleImputer(strategy=\"constant\", fill_value=\"NA\"),\n",
        "    OneHotEncoder(handle_unknown='ignore'),\n",
        ")\n",
        "\n",
        "preprocessor = make_column_transformer(\n",
        "    (transformer_num, features_num),\n",
        "    (transformer_cat, features_cat),\n",
        ")\n",
        "\n",
        "# stratify - make sure classes are evenlly represented across splits\n",
        "X_train, X_valid, y_train, y_valid = \\\n",
        "    train_test_split(X, y, stratify=y, train_size=0.75)\n",
        "\n",
        "X_train = preprocessor.fit_transform(X_train)\n",
        "X_valid = preprocessor.transform(X_valid)\n",
        "\n",
        "input_shape = [X_train.shape[1]]"
      ],
      "execution_count": 6,
      "outputs": []
    },
    {
      "cell_type": "markdown",
      "metadata": {
        "id": "OiEFCSjENK_B"
      },
      "source": [
        "# Define Model"
      ]
    },
    {
      "cell_type": "markdown",
      "metadata": {
        "id": "lGLGbOc12S-u"
      },
      "source": [
        "Model-> ***BatchNorm(input_shape=input_shape),Dense(256,activation='relu'),BatchNorm(),Dropout(0.3),Dense(256,activation='relu'),BatchNorm(),Dropout(0.3),Dense(1,activation='sigmoid')***"
      ]
    },
    {
      "cell_type": "code",
      "metadata": {
        "lines_to_next_cell": 2,
        "trusted": true,
        "id": "Z3orN_2CckvQ"
      },
      "source": [
        "from tensorflow import keras\n",
        "from tensorflow.keras import layers\n",
        "\n",
        "# YOUR CODE HERE: define the model given in the diagram\n",
        "model = keras.Sequential([\n",
        "    layers.BatchNormalization(input_shape=input_shape),\n",
        "    layers.Dense(256, activation='relu'),\n",
        "    layers.BatchNormalization(),    \n",
        "    layers.Dropout(0.3),\n",
        "    layers.Dense(256, activation='relu'),\n",
        "    layers.BatchNormalization(),    \n",
        "    layers.Dropout(0.3),\n",
        "    layers.Dense(1,activation='sigmoid'),\n",
        "])\n"
      ],
      "execution_count": 7,
      "outputs": []
    },
    {
      "cell_type": "markdown",
      "metadata": {
        "id": "ECOhfHTFckvR"
      },
      "source": [
        "# Add Optimizer, Loss, and Metric \n",
        "\n",
        "Now compile the model with the Adam optimizer and binary versions of the cross-entropy loss and accuracy metric."
      ]
    },
    {
      "cell_type": "code",
      "metadata": {
        "lines_to_next_cell": 0,
        "trusted": true,
        "id": "h4b0tAgockvR"
      },
      "source": [
        "model.compile(\n",
        "    optimizer='ADAM',\n",
        "    loss='binary_crossentropy',\n",
        "    metrics=['binary_accuracy'],\n",
        ")"
      ],
      "execution_count": 8,
      "outputs": []
    },
    {
      "cell_type": "markdown",
      "metadata": {
        "id": "V2K2v8IPckvR"
      },
      "source": [
        "# Train"
      ]
    },
    {
      "cell_type": "code",
      "metadata": {
        "trusted": false,
        "colab": {
          "base_uri": "https://localhost:8080/",
          "height": 1000
        },
        "id": "2mcEsVGdckvR",
        "outputId": "ec042280-845c-4922-d3ac-01483f5be2f3"
      },
      "source": [
        "early_stopping = keras.callbacks.EarlyStopping(\n",
        "    patience=5,\n",
        "    min_delta=0.001,\n",
        "    restore_best_weights=True,\n",
        ")\n",
        "history = model.fit(\n",
        "    X_train, y_train,\n",
        "    validation_data=(X_valid, y_valid),\n",
        "    batch_size=512,\n",
        "    epochs=200,\n",
        "    callbacks=[early_stopping],\n",
        ")\n",
        "\n",
        "history_df = pd.DataFrame(history.history)\n",
        "history_df.loc[:, ['loss', 'val_loss']].plot(title=\"Cross-entropy\")\n",
        "history_df.loc[:, ['binary_accuracy', 'val_binary_accuracy']].plot(title=\"Accuracy\")"
      ],
      "execution_count": 9,
      "outputs": [
        {
          "output_type": "stream",
          "text": [
            "Epoch 1/200\n",
            "175/175 [==============================] - 1s 6ms/step - loss: 0.4696 - binary_accuracy: 0.7759 - val_loss: 0.4359 - val_binary_accuracy: 0.8017\n",
            "Epoch 2/200\n",
            "175/175 [==============================] - 1s 5ms/step - loss: 0.4206 - binary_accuracy: 0.8019 - val_loss: 0.4079 - val_binary_accuracy: 0.8098\n",
            "Epoch 3/200\n",
            "175/175 [==============================] - 1s 5ms/step - loss: 0.4048 - binary_accuracy: 0.8099 - val_loss: 0.4014 - val_binary_accuracy: 0.8138\n",
            "Epoch 4/200\n",
            "175/175 [==============================] - 1s 5ms/step - loss: 0.3987 - binary_accuracy: 0.8141 - val_loss: 0.3966 - val_binary_accuracy: 0.8175\n",
            "Epoch 5/200\n",
            "175/175 [==============================] - 1s 5ms/step - loss: 0.3920 - binary_accuracy: 0.8173 - val_loss: 0.3909 - val_binary_accuracy: 0.8206\n",
            "Epoch 6/200\n",
            "175/175 [==============================] - 1s 5ms/step - loss: 0.3897 - binary_accuracy: 0.8196 - val_loss: 0.3872 - val_binary_accuracy: 0.8210\n",
            "Epoch 7/200\n",
            "175/175 [==============================] - 1s 5ms/step - loss: 0.3856 - binary_accuracy: 0.8207 - val_loss: 0.3843 - val_binary_accuracy: 0.8231\n",
            "Epoch 8/200\n",
            "175/175 [==============================] - 1s 5ms/step - loss: 0.3819 - binary_accuracy: 0.8230 - val_loss: 0.3854 - val_binary_accuracy: 0.8228\n",
            "Epoch 9/200\n",
            "175/175 [==============================] - 1s 5ms/step - loss: 0.3787 - binary_accuracy: 0.8245 - val_loss: 0.3808 - val_binary_accuracy: 0.8247\n",
            "Epoch 10/200\n",
            "175/175 [==============================] - 1s 5ms/step - loss: 0.3761 - binary_accuracy: 0.8254 - val_loss: 0.3770 - val_binary_accuracy: 0.8283\n",
            "Epoch 11/200\n",
            "175/175 [==============================] - 1s 5ms/step - loss: 0.3732 - binary_accuracy: 0.8273 - val_loss: 0.3822 - val_binary_accuracy: 0.8240\n",
            "Epoch 12/200\n",
            "175/175 [==============================] - 1s 5ms/step - loss: 0.3703 - binary_accuracy: 0.8295 - val_loss: 0.3750 - val_binary_accuracy: 0.8293\n",
            "Epoch 13/200\n",
            "175/175 [==============================] - 1s 5ms/step - loss: 0.3698 - binary_accuracy: 0.8292 - val_loss: 0.3726 - val_binary_accuracy: 0.8306\n",
            "Epoch 14/200\n",
            "175/175 [==============================] - 1s 5ms/step - loss: 0.3671 - binary_accuracy: 0.8309 - val_loss: 0.3728 - val_binary_accuracy: 0.8286\n",
            "Epoch 15/200\n",
            "175/175 [==============================] - 1s 5ms/step - loss: 0.3654 - binary_accuracy: 0.8316 - val_loss: 0.3698 - val_binary_accuracy: 0.8314\n",
            "Epoch 16/200\n",
            "175/175 [==============================] - 1s 5ms/step - loss: 0.3637 - binary_accuracy: 0.8311 - val_loss: 0.3698 - val_binary_accuracy: 0.8313\n",
            "Epoch 17/200\n",
            "175/175 [==============================] - 1s 5ms/step - loss: 0.3605 - binary_accuracy: 0.8332 - val_loss: 0.3662 - val_binary_accuracy: 0.8334\n",
            "Epoch 18/200\n",
            "175/175 [==============================] - 1s 5ms/step - loss: 0.3619 - binary_accuracy: 0.8332 - val_loss: 0.3681 - val_binary_accuracy: 0.8326\n",
            "Epoch 19/200\n",
            "175/175 [==============================] - 1s 5ms/step - loss: 0.3594 - binary_accuracy: 0.8344 - val_loss: 0.3662 - val_binary_accuracy: 0.8313\n",
            "Epoch 20/200\n",
            "175/175 [==============================] - 1s 5ms/step - loss: 0.3566 - binary_accuracy: 0.8348 - val_loss: 0.3653 - val_binary_accuracy: 0.8328\n",
            "Epoch 21/200\n",
            "175/175 [==============================] - 1s 5ms/step - loss: 0.3552 - binary_accuracy: 0.8352 - val_loss: 0.3680 - val_binary_accuracy: 0.8329\n",
            "Epoch 22/200\n",
            "175/175 [==============================] - 1s 5ms/step - loss: 0.3546 - binary_accuracy: 0.8368 - val_loss: 0.3648 - val_binary_accuracy: 0.8335\n",
            "Epoch 23/200\n",
            "175/175 [==============================] - 1s 5ms/step - loss: 0.3527 - binary_accuracy: 0.8373 - val_loss: 0.3696 - val_binary_accuracy: 0.8290\n",
            "Epoch 24/200\n",
            "175/175 [==============================] - 1s 5ms/step - loss: 0.3528 - binary_accuracy: 0.8376 - val_loss: 0.3645 - val_binary_accuracy: 0.8327\n",
            "Epoch 25/200\n",
            "175/175 [==============================] - 1s 5ms/step - loss: 0.3504 - binary_accuracy: 0.8375 - val_loss: 0.3631 - val_binary_accuracy: 0.8341\n",
            "Epoch 26/200\n",
            "175/175 [==============================] - 1s 5ms/step - loss: 0.3484 - binary_accuracy: 0.8392 - val_loss: 0.3611 - val_binary_accuracy: 0.8370\n",
            "Epoch 27/200\n",
            "175/175 [==============================] - 1s 4ms/step - loss: 0.3497 - binary_accuracy: 0.8381 - val_loss: 0.3615 - val_binary_accuracy: 0.8354\n",
            "Epoch 28/200\n",
            "175/175 [==============================] - 1s 5ms/step - loss: 0.3475 - binary_accuracy: 0.8381 - val_loss: 0.3625 - val_binary_accuracy: 0.8341\n",
            "Epoch 29/200\n",
            "175/175 [==============================] - 1s 5ms/step - loss: 0.3465 - binary_accuracy: 0.8401 - val_loss: 0.3596 - val_binary_accuracy: 0.8340\n",
            "Epoch 30/200\n",
            "175/175 [==============================] - 1s 5ms/step - loss: 0.3464 - binary_accuracy: 0.8389 - val_loss: 0.3589 - val_binary_accuracy: 0.8354\n",
            "Epoch 31/200\n",
            "175/175 [==============================] - 1s 5ms/step - loss: 0.3448 - binary_accuracy: 0.8407 - val_loss: 0.3606 - val_binary_accuracy: 0.8342\n",
            "Epoch 32/200\n",
            "175/175 [==============================] - 1s 5ms/step - loss: 0.3448 - binary_accuracy: 0.8405 - val_loss: 0.3637 - val_binary_accuracy: 0.8340\n",
            "Epoch 33/200\n",
            "175/175 [==============================] - 1s 5ms/step - loss: 0.3435 - binary_accuracy: 0.8413 - val_loss: 0.3593 - val_binary_accuracy: 0.8366\n",
            "Epoch 34/200\n",
            "175/175 [==============================] - 1s 5ms/step - loss: 0.3421 - binary_accuracy: 0.8419 - val_loss: 0.3602 - val_binary_accuracy: 0.8358\n"
          ],
          "name": "stdout"
        },
        {
          "output_type": "execute_result",
          "data": {
            "text/plain": [
              "<matplotlib.axes._subplots.AxesSubplot at 0x7f4d52382dd8>"
            ]
          },
          "metadata": {
            "tags": []
          },
          "execution_count": 9
        },
        {
          "output_type": "display_data",
          "data": {
            "image/png": "[encoded data removed]",
            "text/plain": [
              "<Figure size 432x288 with 1 Axes>"
            ]
          },
          "metadata": {
            "tags": [],
            "needs_background": "light"
          }
        },
        {
          "output_type": "display_data",
          "data": {
            "image/png": "[encoded data removed]",
            "text/plain": [
              "<Figure size 432x288 with 1 Axes>"
            ]
          },
          "metadata": {
            "tags": [],
            "needs_background": "light"
          }
        }
      ]
    }
  ]
}