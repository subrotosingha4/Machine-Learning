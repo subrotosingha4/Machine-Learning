{
  "nbformat": 4,
  "nbformat_minor": 0,
  "metadata": {
    "colab": {
      "name": "Model_Deployment.ipynb",
      "provenance": [],
      "collapsed_sections": [],
      "authorship_tag": "ABX9TyPpGtL9SvlzkzvO8g0yqk8f",
      "include_colab_link": true
    },
    "kernelspec": {
      "name": "python3",
      "display_name": "Python 3"
    },
    "language_info": {
      "name": "python"
    }
  },
  "cells": [
    {
      "cell_type": "markdown",
      "metadata": {
        "id": "view-in-github",
        "colab_type": "text"
      },
      "source": [
        "<a href=\"https://colab.research.google.com/github/subrotosingha4/Machine-Learning/blob/master/Model_Deployment.ipynb\" target=\"_parent\"><img src=\"https://colab.research.google.com/assets/colab-badge.svg\" alt=\"Open In Colab\"/></a>"
      ]
    },
    {
      "cell_type": "markdown",
      "metadata": {
        "id": "RU108_0yY5vw"
      },
      "source": [
        "1. Create a new folder web_app, and move all of the application folders and files to the new folder\n"
      ]
    },
    {
      "cell_type": "code",
      "metadata": {
        "id": "OEn4CsNuY2PY"
      },
      "source": [
        "mkdir web_app\n",
        "mv -t web_app/ data/ worldbankapp/ worldbank.py  wrangling_scripts/ requirements.txt runtime.txt"
      ],
      "execution_count": null,
      "outputs": []
    },
    {
      "cell_type": "markdown",
      "metadata": {
        "id": "rS1HVDanZGAT"
      },
      "source": [
        "2. [Applicable only for the Local practice. Not for the workspace.] Create a virtual environment and then activate the environment:"
      ]
    },
    {
      "cell_type": "code",
      "metadata": {
        "id": "bo-TjBsYaEOH"
      },
      "source": [
        "# Update Python\n",
        "conda update python\n",
        "# Create a virtual environment\n",
        "python3 -m venv worldbankvenv\n",
        "# Activate the new environment (Mac/Linux)\n",
        "source worldbankenv/bin/activate"
      ],
      "execution_count": null,
      "outputs": []
    },
    {
      "cell_type": "markdown",
      "metadata": {
        "id": "336Puqi5aNPo"
      },
      "source": [
        "The new environment will automatically come with Python packages meant for data science. In addition, pip install the specific Python packages needed for the web app"
      ]
    },
    {
      "cell_type": "code",
      "metadata": {
        "id": "y4B5BdpQaN2w"
      },
      "source": [
        "pip install flask==0.12.5 pandas==0.23.3 plotly==2.0.15 gunicorn==19.10.0"
      ],
      "execution_count": null,
      "outputs": []
    },
    {
      "cell_type": "markdown",
      "metadata": {
        "id": "zd6fJFeZaV2e"
      },
      "source": [
        "3. Install the Heroku command-line tools."
      ]
    },
    {
      "cell_type": "code",
      "metadata": {
        "id": "hi-Rg9iiaYoD"
      },
      "source": [
        "# Verify the installation\n",
        "heroku --version\n",
        "# Install, if Heroku not present\n",
        "curl https://cli-assets.heroku.com/install-ubuntu.sh | sh"
      ],
      "execution_count": null,
      "outputs": []
    },
    {
      "cell_type": "markdown",
      "metadata": {
        "id": "KOyG4E6Zbtb-"
      },
      "source": [
        "5. The next steps involves some housekeeping:\n",
        "\n",
        "- remove app.run() from worldbank.py\n",
        "- type cd web_app into the Terminal so that you are inside the folder with your web app code."
      ]
    },
    {
      "cell_type": "markdown",
      "metadata": {
        "id": "EeNkIEw1b0JW"
      },
      "source": [
        "Create a proc file, which tells Heroku what to do when starting your web app:"
      ]
    },
    {
      "cell_type": "code",
      "metadata": {
        "id": "xbu67QcEb0u7"
      },
      "source": [
        "touch Procfile"
      ],
      "execution_count": null,
      "outputs": []
    },
    {
      "cell_type": "markdown",
      "metadata": {
        "id": "bjZOXqXhb43O"
      },
      "source": [
        "Then open the Procfile and type:"
      ]
    },
    {
      "cell_type": "code",
      "metadata": {
        "id": "Fb1r_oxzb62Q"
      },
      "source": [
        "web gunicorn worldbank:app"
      ],
      "execution_count": null,
      "outputs": []
    },
    {
      "cell_type": "markdown",
      "metadata": {
        "id": "gsSqIy0Ob_EV"
      },
      "source": [
        "6. [Applicable only for the Local practice. Not for the workspace.] Create a requirements.txt file, which lists all of the Python packages that your app depends on:"
      ]
    },
    {
      "cell_type": "code",
      "metadata": {
        "id": "sog2fJyEcCOl"
      },
      "source": [
        "pip freeze > requirements.txt"
      ],
      "execution_count": null,
      "outputs": []
    },
    {
      "cell_type": "markdown",
      "metadata": {
        "id": "Cf_GA77OcIAW"
      },
      "source": [
        "7. Initialize a git repository and make a commit"
      ]
    },
    {
      "cell_type": "code",
      "metadata": {
        "id": "c6aatA-QcLq1"
      },
      "source": [
        "# Run it just once, in the beginning\n",
        "git init\n",
        "# For the first time commit, you need to configure the git username and email:\n",
        "git config --global user.email \"you@example.com\"\n",
        "git config --global user.name \"Your Name\""
      ],
      "execution_count": null,
      "outputs": []
    },
    {
      "cell_type": "markdown",
      "metadata": {
        "id": "4Jh2giXlcPn6"
      },
      "source": [
        "Whenever you make any changes to your web_app folder contents, you will have to run git add and git commit commands."
      ]
    },
    {
      "cell_type": "code",
      "metadata": {
        "id": "WY-CLRzpcQKQ"
      },
      "source": [
        "# Every time you make any edits to any file in the web_app folder\n",
        "git add .\n",
        "# Check which files are ready to be committed\n",
        "git status\n",
        "git commit -m \"your message\""
      ],
      "execution_count": null,
      "outputs": []
    },
    {
      "cell_type": "markdown",
      "metadata": {
        "id": "c7E_hysQcWjN"
      },
      "source": [
        "8. Now, create a Heroku app:"
      ]
    },
    {
      "cell_type": "code",
      "metadata": {
        "id": "x7la59wych_c"
      },
      "source": [
        "heroku create my-app-name --buildpack heroku/python\n",
        "# For example, \n",
        "# heroku create sudkul-web-app --buildpack heroku/python\n",
        "# The output will be like:\n",
        "# https://sudkul-web-app.herokuapp.com/ | https://git.heroku.com/sudkul-web-app.git"
      ],
      "execution_count": null,
      "outputs": []
    },
    {
      "cell_type": "markdown",
      "metadata": {
        "id": "GyiJpiBSclZF"
      },
      "source": [
        "where my-app-name is a unique name that nobody else on Heroku has already used. You can optionally define the build environment using the option --buildpack heroku/python The heroku create command should create a git repository on Heroku and a web address for accessing your web app. You can check that a remote repository was added to your git repository with the following terminal command:"
      ]
    },
    {
      "cell_type": "code",
      "metadata": {
        "id": "45pFuAU2cnPj"
      },
      "source": [
        "git remote -v"
      ],
      "execution_count": null,
      "outputs": []
    },
    {
      "cell_type": "markdown",
      "metadata": {
        "id": "uqGHLw3_cr3w"
      },
      "source": [
        "9. Before you finally push your local git repository to the remote Heroku repository, you will need the following environment variables (kind of secrets) to send along:"
      ]
    },
    {
      "cell_type": "code",
      "metadata": {
        "id": "-QYWbp8Fcuei"
      },
      "source": [
        "# Set any environment variable to pass along with the push\n",
        "heroku config:set SLUGIFY_USES_TEXT_UNIDECODE=yes\n",
        "heroku config:set AIRFLOW_GPL_UNIDECODE=yes\n",
        "# Verify the variables\n",
        "heroku config"
      ],
      "execution_count": null,
      "outputs": []
    },
    {
      "cell_type": "markdown",
      "metadata": {
        "id": "JGJWD6Vsczmk"
      },
      "source": [
        "If your code uses any confidential variable value, you can use this approach to send those values secretly. These values will not be visible to the public users. Now, push your local repo to the remote Heroku repo:"
      ]
    },
    {
      "cell_type": "code",
      "metadata": {
        "id": "9TqQIsGFc11S"
      },
      "source": [
        "# Syntax\n",
        "# git push <remote branch name> <local branch name>\n",
        "git push heroku master"
      ],
      "execution_count": null,
      "outputs": []
    }
  ]
}